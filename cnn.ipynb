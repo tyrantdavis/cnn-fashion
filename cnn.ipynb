{
 "cells": [
  {
   "cell_type": "markdown",
   "id": "813afd9d-bd94-4174-855f-f87dc6f5bfcc",
   "metadata": {},
   "source": [
    "# Import Libraries "
   ]
  },
  {
   "cell_type": "code",
   "execution_count": 1,
   "id": "3322cc43-5093-48d8-b46d-17a698c86d4e",
   "metadata": {},
   "outputs": [
    {
     "name": "stdout",
     "output_type": "stream",
     "text": [
      "Libraries used in this project:\n",
      "- Python 3.10.13 (main, Sep 11 2023, 08:21:04) [Clang 14.0.6 ]\n",
      "- NumPy 1.26.4\n",
      "- Matplotlib 3.9.2\n",
      "- scikit-learn 1.5.1\n",
      "- TensorFlow 2.10.0\n",
      "- Keras 2.10.0\n",
      "\n"
     ]
    }
   ],
   "source": [
    "import os\n",
    "\n",
    "os.environ[\"TF_CPP_MIN_LOG_LEVEL\"] = \"1\"\n",
    "import shutil  # Manage directories\n",
    "import sys  # Read system parameters.\n",
    "\n",
    "import keras  # Provide a frontend for TensorFlow.\n",
    "import matplotlib as mpl  # Create 2D charts.\n",
    "import matplotlib.pyplot as plt\n",
    "import numpy as np  # Work with multi-dimensional arrays and matrices.\n",
    "import sklearn  # Perform data mining and analysis.\n",
    "import tensorflow  # Train neural networks for deep learning.\n",
    "from keras import datasets\n",
    "from numpy.random import seed\n",
    "\n",
    "# Summarize software libraries used.\n",
    "print(\"Libraries used in this project:\")\n",
    "print(\"- Python {}\".format(sys.version))\n",
    "print(\"- NumPy {}\".format(np.__version__))\n",
    "print(\"- Matplotlib {}\".format(mpl.__version__))\n",
    "print(\"- scikit-learn {}\".format(sklearn.__version__))\n",
    "print(\"- TensorFlow {}\".format(tensorflow.__version__))\n",
    "print(\"- Keras {}\\n\".format(keras.__version__))"
   ]
  },
  {
   "cell_type": "markdown",
   "id": "89489d39-a677-4934-92e6-8ce266e8b4a1",
   "metadata": {},
   "source": [
    "# Load the Dataset"
   ]
  },
  {
   "cell_type": "code",
   "execution_count": 2,
   "id": "f549ef8b-daf6-4967-8fbe-d6540dc893ca",
   "metadata": {},
   "outputs": [
    {
     "name": "stdout",
     "output_type": "stream",
     "text": [
      "Loaded 60000 fashion training records.\n",
      "Loaded 10000 fashion test records.\n"
     ]
    }
   ],
   "source": [
    "(X_train, y_train), (X_test, y_test) = datasets.fashion_mnist.load_data()\n",
    "print(\"Loaded {} fashion training records.\".format(len(X_train.data)))\n",
    "print(\"Loaded {} fashion test records.\".format(len(X_test.data)))"
   ]
  },
  {
   "cell_type": "markdown",
   "id": "af484efd-6f51-4c24-b450-2cf69462df16",
   "metadata": {},
   "source": [
    "**Spotlights** \n",
    "\n",
    "The Fashion-MNIST dataset was imported using Keras, which serves as a user-friendly interface for the TensorFlow deep learning library. It consists of numerical data that can be transformed into small grayscale images representing various clothing items. The training dataset comprised 60,000 records, while the test dataset included 10,000 records."
   ]
  },
  {
   "cell_type": "markdown",
   "id": "41617f7f-8b3b-4118-be42-be3dbd8743e1",
   "metadata": {},
   "source": [
    "# Explore the Data"
   ]
  },
  {
   "cell_type": "code",
   "execution_count": 7,
   "id": "1b8e51ce-bd7d-4bbd-9a3b-0e4531191da1",
   "metadata": {
    "scrolled": true
   },
   "outputs": [
    {
     "name": "stdout",
     "output_type": "stream",
     "text": [
      "THe shape of the feature space is: (28, 28)\n",
      "\n",
      "Some examples:\n",
      "\n",
      "[[[  0   0   0 ...   0   0   0]\n",
      "  [  0   0   0 ...   0   0   0]\n",
      "  [  0   0   0 ...   0   0   0]\n",
      "  ...\n",
      "  [  0   0   0 ...   0   0   0]\n",
      "  [  0   0   0 ...   0   0   0]\n",
      "  [  0   0   0 ...   0   0   0]]\n",
      "\n",
      " [[  0   0   0 ...   0   0   0]\n",
      "  [  0   0   0 ...   0   0   0]\n",
      "  [  0   0   0 ...   0   0   0]\n",
      "  ...\n",
      "  [  0   0   0 ... 180   0   0]\n",
      "  [  0   0   0 ...  72   0   0]\n",
      "  [  0   0   0 ...  70   0   0]]\n",
      "\n",
      " [[  0   0   0 ...   0   0   0]\n",
      "  [  0   0   0 ...   0   0   0]\n",
      "  [  0   0   0 ...  39   1   0]\n",
      "  ...\n",
      "  [  0   0   0 ... 238   0   0]\n",
      "  [  0   0   0 ... 131   0   0]\n",
      "  [  0   0   0 ...   0   0   0]]]\n"
     ]
    }
   ],
   "source": [
    "print(\"THe shape of the feature space is: {}\\n\".format(X_train[0].shape))\n",
    "\n",
    "print(\"Some examples:\\n\")\n",
    "print(X_train[6:9])"
   ]
  },
  {
   "cell_type": "markdown",
   "id": "309c1e67-31f3-4653-b4cd-59d9e63a3a9a",
   "metadata": {},
   "source": [
    "**Spotlights** \n",
    "\n",
    "- The structure of the feature space indicates that the training set is multi-dimensional; instead of having just 28 features, each image actually consists of 28 × 28 features, reflecting its dimensions of 28 pixels in width and 28 pixels in height.\n",
    "- Features for example images 6, 7, and 8 are displayed, showing that while many values are truncated, the majority are 0, with a few having positive values. Each number signifies the intensity of a specific pixel in grayscale. Essentially, a value of 0 represents complete black, while 255 indicates complete white.\n",
    "- This multi-dimensional representation allows for a more detailed analysis of the images, capturing the nuances of pixel intensity across the entire image space."
   ]
  },
  {
   "cell_type": "markdown",
   "id": "318378ed-5dfb-4e6f-95a2-bb8a6d252542",
   "metadata": {},
   "source": [
    "# Examine Class Names"
   ]
  },
  {
   "cell_type": "code",
   "execution_count": 8,
   "id": "08cfa44f-7423-4cd4-b01a-81d458c57120",
   "metadata": {},
   "outputs": [
    {
     "name": "stdout",
     "output_type": "stream",
     "text": [
      "T-shirt/top (0)\n",
      "Trouser (1)\n",
      "Pullover (2)\n",
      "Dress (3)\n",
      "Coat (4)\n",
      "Sandal (5)\n",
      "Shirt (6)\n",
      "Sneaker (7)\n",
      "Bag (8)\n",
      "Ankle boot (9)\n"
     ]
    }
   ],
   "source": [
    "class_names = [\n",
    "    \"T-shirt/top\",\n",
    "    \"Trouser\",\n",
    "    \"Pullover\",\n",
    "    \"Dress\",\n",
    "    \"Coat\",\n",
    "    \"Sandal\",\n",
    "    \"Shirt\",\n",
    "    \"Sneaker\",\n",
    "    \"Bag\",\n",
    "    \"Ankle boot\",\n",
    "]\n",
    "\n",
    "for i in range(10):\n",
    "    print(\"{} ({})\".format(class_names[i], np.unique(y_train)[i]))"
   ]
  },
  {
   "cell_type": "markdown",
   "id": "fc076b0c-dd51-4c6e-84d4-db007d53bcbf",
   "metadata": {},
   "source": [
    "**Spotlights**\n",
    "\n",
    "Each class label corresponds to its specific class name, which represents the type of clothing. In total, there are 10 distinct classes."
   ]
  }
 ],
 "metadata": {
  "kernelspec": {
   "display_name": "Python 3 (ipykernel)",
   "language": "python",
   "name": "python3"
  },
  "language_info": {
   "codemirror_mode": {
    "name": "ipython",
    "version": 3
   },
   "file_extension": ".py",
   "mimetype": "text/x-python",
   "name": "python",
   "nbconvert_exporter": "python",
   "pygments_lexer": "ipython3",
   "version": "3.10.13"
  }
 },
 "nbformat": 4,
 "nbformat_minor": 5
}
